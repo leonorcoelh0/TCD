{
 "metadata": {
  "language_info": {
   "codemirror_mode": {
    "name": "ipython",
    "version": 3
   },
   "file_extension": ".py",
   "mimetype": "text/x-python",
   "name": "python",
   "nbconvert_exporter": "python",
   "pygments_lexer": "ipython3",
   "version": "3.8.5-final"
  },
  "orig_nbformat": 2,
  "kernelspec": {
   "name": "Python 3.8.5 64-bit ('tcd-tp1')",
   "display_name": "Python 3.8.5 64-bit ('tcd-tp1')",
   "metadata": {
    "interpreter": {
     "hash": "1698ae2c2616bb7613a5ea091c8e8f5f42880f14b060c0f02d7a5fed02a20044"
    }
   }
  }
 },
 "nbformat": 4,
 "nbformat_minor": 2,
 "cells": [
  {
   "cell_type": "code",
   "execution_count": 1,
   "metadata": {},
   "outputs": [],
   "source": [
    "import csv\n",
    "import numpy as np"
   ]
  },
  {
   "cell_type": "code",
   "execution_count": null,
   "metadata": {},
   "outputs": [],
   "source": [
    "dir_files = \"../Dataset/\"\n",
    "\n",
    "def readFiles():\n",
    "    part = dict()\n",
    "    for i in range(1):\n",
    "        print(\"Ler individuo\",i)\n",
    "        part[i] = np.empty([1,1])\n",
    "        for d in range(1,6):\n",
    "            file_name = dir_files + \"part\" + str(i) + \"/part\" + str(i) + \"dev\" + str(d) + \".csv\"\n",
    "            print(\"Ler dev\",d)\n",
    "            csv_file = open(file_name)\n",
    "            csv_reader = csv.reader(csv_file, delimiter=',')\n",
    "            # print (csv_reader)\n",
    "            rows = np.array(list(csv_reader))\n",
    "            print(rows.shape)\n",
    "\n",
    "\n",
    "readFiles()"
   ]
  }
 ]
}