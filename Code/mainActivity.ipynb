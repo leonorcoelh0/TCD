{
 "metadata": {
  "language_info": {
   "codemirror_mode": {
    "name": "ipython",
    "version": 3
   },
   "file_extension": ".py",
   "mimetype": "text/x-python",
   "name": "python",
   "nbconvert_exporter": "python",
   "pygments_lexer": "ipython3",
   "version": "3.7.9-final"
  },
  "orig_nbformat": 2,
  "kernelspec": {
   "name": "Python 3.7.9 64-bit",
   "display_name": "Python 3.7.9 64-bit",
   "metadata": {
    "interpreter": {
     "hash": "c290367dfb2a16a8c40d3b94fd7ff70b900983e7878008f1e82dfe9f0ce4600d"
    }
   }
  }
 },
 "nbformat": 4,
 "nbformat_minor": 2,
 "cells": [
  {
   "source": [
    "# IMPORT"
   ],
   "cell_type": "markdown",
   "metadata": {}
  },
  {
   "source": [
    "import csv\n",
    "import numpy as np\n",
    "import matplotlib.pyplot as plt\n",
    "from math import ceil"
   ],
   "cell_type": "code",
   "metadata": {},
   "execution_count": 64,
   "outputs": []
  },
  {
   "source": [
    "# PLOTS"
   ],
   "cell_type": "markdown",
   "metadata": {}
  },
  {
   "cell_type": "code",
   "execution_count": 65,
   "metadata": {},
   "outputs": [],
   "source": [
    "def plotBoxplot(data,name,k):\n",
    "    quartiles = [[list()] * 5] * 16\n",
    "    for ai in range(len(data)):\n",
    "        a = data[ai]\n",
    "        x = round(np.sqrt(len(a))) \n",
    "        y = ceil(len(a)/x)\n",
    "        \n",
    "        for di in range(len(a)):\n",
    "            d = a[di]\n",
    "\n",
    "            [q1,q2,q3] = np.percentile(d,[25, 50, 75])\n",
    "            iqr = q3-q1\n",
    "            whis = 1.5\n",
    "            q0 = q1 - whis*iqr\n",
    "            q4 = q3 + whis*iqr\n",
    "\n",
    "            quartiles[ai][di] = [q0,q1,q2,q3,q4]\n",
    "            plt.boxplot(d,whis=whis)\n",
    "\n",
    "            plt.title(name[:3] + ' act ' + str(ai) + ' dev ' + str(di))\n",
    "            plt.savefig('Plots/' + name + '/'+str(k)+'-' + name.lower() + '-' + str(ai) + '.jpg')\n",
    "            plt.show()\n",
    "            return [q0,q1,q2,q3,q4]\n",
    "        \n",
    "        plt.subplots_adjust(hspace=0.4,wspace=0.3)\n",
    "\n",
    "\n",
    "\n",
    "    return quartiles"
   ]
  },
  {
   "source": [
    "# READ FILE"
   ],
   "cell_type": "markdown",
   "metadata": {}
  },
  {
   "cell_type": "code",
   "execution_count": 92,
   "metadata": {},
   "outputs": [
    {
     "output_type": "stream",
     "name": "stdout",
     "text": [
      "[[ 1.0000e+00 -1.8650e+00  9.3890e+00 ...  1.0134e+00  5.0589e+02\n   1.0000e+00]\n [ 1.0000e+00 -1.7963e+00  9.3742e+00 ...  1.0000e+00  5.2542e+02\n   1.0000e+00]\n [ 1.0000e+00 -1.8696e+00  9.3000e+00 ...  1.0156e+00  5.4495e+02\n   1.0000e+00]\n ...\n [ 1.0000e+00 -2.1324e+00  9.3112e+00 ...  5.4343e-01  1.0379e+06\n   1.0000e+00]\n [ 1.0000e+00 -2.1327e+00  9.3110e+00 ...  5.5234e-01  1.0380e+06\n   1.0000e+00]\n [ 1.0000e+00 -2.1334e+00  9.2982e+00 ...  5.4120e-01  1.0380e+06\n   1.0000e+00]]\n"
     ]
    }
   ],
   "source": [
    "dir_files = \"../Dataset/\"\n",
    "            # rows = np.list(csv_reader).astype(np.float)\n",
    "\n",
    "def readFiles():\n",
    "    part = dict()\n",
    "    d = 2\n",
    "    i = 0\n",
    "    \n",
    "    file_name = dir_files + \"part\" + str(i) + \"/part\" + str(i) + \"dev\" + str(d) + \".csv\"\n",
    "    csv_file = open(file_name)\n",
    "    csv_reader = csv.reader(csv_file, delimiter=',')\n",
    "    rows = np.array(list(csv_reader)).astype(float)\n",
    "    \n",
    "    return rows\n",
    "\n",
    "part = readFiles()"
   ]
  },
  {
   "source": [
    "# OUTLIERS"
   ],
   "cell_type": "markdown",
   "metadata": {}
  },
  {
   "cell_type": "code",
   "execution_count": 67,
   "metadata": {},
   "outputs": [],
   "source": [
    "def outliersDensity(data,quartiles):\n",
    "    density = [[list()] * 5] * 16\n",
    "    for ai in range(len(data)):\n",
    "        a = data[ai]\n",
    "\n",
    "        for di in range(len(a)):\n",
    "            d = a[di]\n",
    "            q = quartiles[ai][di]\n",
    "\n",
    "            outliers_minus = np.where(d < q[0])[0]\n",
    "            outliers_plus = np.where(d > q[4])[0]\n",
    "\n",
    "            outliers = np.concatenate((d[outliers_minus],d[outliers_plus]))\n",
    "\n",
    "            density[ai][di] = len(outliers) / len(d) * 100\n",
    "    \n",
    "    return density\n",
    "            "
   ]
  },
  {
   "source": [
    "# BOXPLOT"
   ],
   "cell_type": "markdown",
   "metadata": {}
  },
  {
   "cell_type": "code",
   "execution_count": 106,
   "metadata": {
    "tags": []
   },
   "outputs": [
    {
     "output_type": "stream",
     "name": "stdout",
     "text": [
      "-1.865 9.9143400909995\n"
     ]
    }
   ],
   "source": [
    "def boxplot(part):\n",
    "    acc = [None] * 16\n",
    "    d = part\n",
    "    for a in range(1,17):\n",
    "        pos = np.where(d[:,11] == a)[0]\n",
    "\n",
    "        acc[a-1] = np.sqrt(d[pos,1]**2 + d[pos,2]**2 + d[pos,3]**2)\n",
    "\n",
    "    print(d[0][1],acc[0][0])\n",
    "\n",
    "        # gyr[a-1] = np.sqrt(d[pos,4]**2 + d[pos,5]**2 + d[pos,6]**2)\n",
    "\n",
    "        # mag[a-1] = np.sqrt(d[pos,7]**2 + d[pos,8]**2 + d[pos,9]**2)\n",
    "        \n",
    "\n",
    "        # density = outliersDensity(acc,quartiles_acc)\n",
    "\n",
    "        # quartiles_gyr = plotBoxplot(gyr, \"Gyroscope\", k)\n",
    "        \n",
    "        # quartiles_mag = plotBoxplot(mag, \"Magnemometer\", k)\n",
    "\n",
    "\n",
    "boxplot(part)"
   ]
  }
 ]
}