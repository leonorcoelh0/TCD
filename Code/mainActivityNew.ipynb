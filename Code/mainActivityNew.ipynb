{
 "metadata": {
  "language_info": {
   "codemirror_mode": {
    "name": "ipython",
    "version": 3
   },
   "file_extension": ".py",
   "mimetype": "text/x-python",
   "name": "python",
   "nbconvert_exporter": "python",
   "pygments_lexer": "ipython3",
   "version": "3.8.5-final"
  },
  "orig_nbformat": 2,
  "kernelspec": {
   "name": "Python 3.8.5 64-bit ('tcd-tp1')",
   "display_name": "Python 3.8.5 64-bit ('tcd-tp1')",
   "metadata": {
    "interpreter": {
     "hash": "1698ae2c2616bb7613a5ea091c8e8f5f42880f14b060c0f02d7a5fed02a20044"
    }
   }
  }
 },
 "nbformat": 4,
 "nbformat_minor": 2,
 "cells": [
  {
   "source": [
    "## Imports"
   ],
   "cell_type": "markdown",
   "metadata": {}
  },
  {
   "cell_type": "code",
   "execution_count": 35,
   "metadata": {},
   "outputs": [],
   "source": [
    "import csv\n",
    "import pandas as pd\n",
    "import numpy as np\n",
    "import matplotlib.pyplot as plt"
   ]
  },
  {
   "source": [
    "## Plots"
   ],
   "cell_type": "markdown",
   "metadata": {}
  },
  {
   "cell_type": "code",
   "execution_count": null,
   "metadata": {},
   "outputs": [],
   "source": []
  },
  {
   "source": [
    "## Read Files"
   ],
   "cell_type": "markdown",
   "metadata": {}
  },
  {
   "cell_type": "code",
   "execution_count": 36,
   "metadata": {},
   "outputs": [
    {
     "output_type": "execute_result",
     "data": {
      "text/plain": [
       "       Dev_ID   Acc_X   Acc_Y   Acc_Z    Gyr_X     Gyr_Y     Gyr_Z    Mag_X  \\\n",
       "0           1 -1.7963  9.3742  2.4460 -1.56180 -0.661650  0.597300 -0.34274   \n",
       "1           1 -1.8696  9.3000  2.3514 -1.18770 -1.284100  0.142120 -0.34476   \n",
       "2           1 -1.7961  9.3624  2.4584 -0.58399 -2.033400  0.429120 -0.32863   \n",
       "3           1 -1.6768  9.3506  2.4685 -0.37050 -1.364700  0.371940 -0.33669   \n",
       "4           1 -1.6656  9.3378  2.4319 -0.79053  0.177930  0.387630 -0.32661   \n",
       "...       ...     ...     ...     ...      ...       ...       ...      ...   \n",
       "53114       1 -2.2033  9.3479  2.3327 -1.50120 -0.092005 -0.117810  0.22581   \n",
       "53115       1 -2.1798  9.3235  2.3205 -1.59020 -0.091795 -0.007825  0.21169   \n",
       "53116       1 -2.1324  9.3112  2.3076 -1.69930 -0.379580  0.132570  0.22379   \n",
       "53117       1 -2.1327  9.3110  2.2955 -1.55450 -0.241180  0.180670  0.22782   \n",
       "53118       1 -2.1334  9.2982  2.2591 -1.69560  0.881400  0.373460  0.21169   \n",
       "\n",
       "         Mag_Y    Mag_Z   Timestamp  Act_Label  \n",
       "0      0.57631  1.00000      525.42          1  \n",
       "1      0.59639  1.01560      544.95          1  \n",
       "2      0.62249  1.01560      564.48          1  \n",
       "3      0.62048  1.02450      584.01          1  \n",
       "4      0.60442  1.02000      603.55          1  \n",
       "...        ...      ...         ...        ...  \n",
       "53114  0.87751  0.53898  1037900.00          1  \n",
       "53115  0.89759  0.53898  1037900.00          1  \n",
       "53116  0.90361  0.54343  1037900.00          1  \n",
       "53117  0.89558  0.55234  1038000.00          1  \n",
       "53118  0.89558  0.54120  1038000.00          1  \n",
       "\n",
       "[53119 rows x 12 columns]"
      ],
      "text/html": "<div>\n<style scoped>\n    .dataframe tbody tr th:only-of-type {\n        vertical-align: middle;\n    }\n\n    .dataframe tbody tr th {\n        vertical-align: top;\n    }\n\n    .dataframe thead th {\n        text-align: right;\n    }\n</style>\n<table border=\"1\" class=\"dataframe\">\n  <thead>\n    <tr style=\"text-align: right;\">\n      <th></th>\n      <th>Dev_ID</th>\n      <th>Acc_X</th>\n      <th>Acc_Y</th>\n      <th>Acc_Z</th>\n      <th>Gyr_X</th>\n      <th>Gyr_Y</th>\n      <th>Gyr_Z</th>\n      <th>Mag_X</th>\n      <th>Mag_Y</th>\n      <th>Mag_Z</th>\n      <th>Timestamp</th>\n      <th>Act_Label</th>\n    </tr>\n  </thead>\n  <tbody>\n    <tr>\n      <th>0</th>\n      <td>1</td>\n      <td>-1.7963</td>\n      <td>9.3742</td>\n      <td>2.4460</td>\n      <td>-1.56180</td>\n      <td>-0.661650</td>\n      <td>0.597300</td>\n      <td>-0.34274</td>\n      <td>0.57631</td>\n      <td>1.00000</td>\n      <td>525.42</td>\n      <td>1</td>\n    </tr>\n    <tr>\n      <th>1</th>\n      <td>1</td>\n      <td>-1.8696</td>\n      <td>9.3000</td>\n      <td>2.3514</td>\n      <td>-1.18770</td>\n      <td>-1.284100</td>\n      <td>0.142120</td>\n      <td>-0.34476</td>\n      <td>0.59639</td>\n      <td>1.01560</td>\n      <td>544.95</td>\n      <td>1</td>\n    </tr>\n    <tr>\n      <th>2</th>\n      <td>1</td>\n      <td>-1.7961</td>\n      <td>9.3624</td>\n      <td>2.4584</td>\n      <td>-0.58399</td>\n      <td>-2.033400</td>\n      <td>0.429120</td>\n      <td>-0.32863</td>\n      <td>0.62249</td>\n      <td>1.01560</td>\n      <td>564.48</td>\n      <td>1</td>\n    </tr>\n    <tr>\n      <th>3</th>\n      <td>1</td>\n      <td>-1.6768</td>\n      <td>9.3506</td>\n      <td>2.4685</td>\n      <td>-0.37050</td>\n      <td>-1.364700</td>\n      <td>0.371940</td>\n      <td>-0.33669</td>\n      <td>0.62048</td>\n      <td>1.02450</td>\n      <td>584.01</td>\n      <td>1</td>\n    </tr>\n    <tr>\n      <th>4</th>\n      <td>1</td>\n      <td>-1.6656</td>\n      <td>9.3378</td>\n      <td>2.4319</td>\n      <td>-0.79053</td>\n      <td>0.177930</td>\n      <td>0.387630</td>\n      <td>-0.32661</td>\n      <td>0.60442</td>\n      <td>1.02000</td>\n      <td>603.55</td>\n      <td>1</td>\n    </tr>\n    <tr>\n      <th>...</th>\n      <td>...</td>\n      <td>...</td>\n      <td>...</td>\n      <td>...</td>\n      <td>...</td>\n      <td>...</td>\n      <td>...</td>\n      <td>...</td>\n      <td>...</td>\n      <td>...</td>\n      <td>...</td>\n      <td>...</td>\n    </tr>\n    <tr>\n      <th>53114</th>\n      <td>1</td>\n      <td>-2.2033</td>\n      <td>9.3479</td>\n      <td>2.3327</td>\n      <td>-1.50120</td>\n      <td>-0.092005</td>\n      <td>-0.117810</td>\n      <td>0.22581</td>\n      <td>0.87751</td>\n      <td>0.53898</td>\n      <td>1037900.00</td>\n      <td>1</td>\n    </tr>\n    <tr>\n      <th>53115</th>\n      <td>1</td>\n      <td>-2.1798</td>\n      <td>9.3235</td>\n      <td>2.3205</td>\n      <td>-1.59020</td>\n      <td>-0.091795</td>\n      <td>-0.007825</td>\n      <td>0.21169</td>\n      <td>0.89759</td>\n      <td>0.53898</td>\n      <td>1037900.00</td>\n      <td>1</td>\n    </tr>\n    <tr>\n      <th>53116</th>\n      <td>1</td>\n      <td>-2.1324</td>\n      <td>9.3112</td>\n      <td>2.3076</td>\n      <td>-1.69930</td>\n      <td>-0.379580</td>\n      <td>0.132570</td>\n      <td>0.22379</td>\n      <td>0.90361</td>\n      <td>0.54343</td>\n      <td>1037900.00</td>\n      <td>1</td>\n    </tr>\n    <tr>\n      <th>53117</th>\n      <td>1</td>\n      <td>-2.1327</td>\n      <td>9.3110</td>\n      <td>2.2955</td>\n      <td>-1.55450</td>\n      <td>-0.241180</td>\n      <td>0.180670</td>\n      <td>0.22782</td>\n      <td>0.89558</td>\n      <td>0.55234</td>\n      <td>1038000.00</td>\n      <td>1</td>\n    </tr>\n    <tr>\n      <th>53118</th>\n      <td>1</td>\n      <td>-2.1334</td>\n      <td>9.2982</td>\n      <td>2.2591</td>\n      <td>-1.69560</td>\n      <td>0.881400</td>\n      <td>0.373460</td>\n      <td>0.21169</td>\n      <td>0.89558</td>\n      <td>0.54120</td>\n      <td>1038000.00</td>\n      <td>1</td>\n    </tr>\n  </tbody>\n</table>\n<p>53119 rows × 12 columns</p>\n</div>"
     },
     "metadata": {},
     "execution_count": 36
    }
   ],
   "source": [
    "dir_files = '../Dataset/'\n",
    "col_labels = [\n",
    "    'Dev_ID',\n",
    "    'Acc_X',\n",
    "    'Acc_Y',\n",
    "    'Acc_Z',\n",
    "    'Gyr_X',\n",
    "    'Gyr_Y',\n",
    "    'Gyr_Z',\n",
    "    'Mag_X',\n",
    "    'Mag_Y',\n",
    "    'Mag_Z',\n",
    "    'Timestamp',\n",
    "    'Act_Label'\n",
    "    ]\n",
    "\n",
    "\n",
    "def read_file(id=0, dev=1):\n",
    "    file_path = dir_files + 'part' + str(id) + '/part' + str(id) + 'dev' + str(dev) + '.csv'\n",
    "    data = pd.read_csv(file_path)\n",
    "    data.columns = col_labels\n",
    "    return data\n",
    "    \n",
    "\n",
    "data = read_file()\n",
    "data"
   ]
  },
  {
   "source": [
    "## Outliers Density"
   ],
   "cell_type": "markdown",
   "metadata": {}
  },
  {
   "cell_type": "code",
   "execution_count": 37,
   "metadata": {
    "tags": []
   },
   "outputs": [],
   "source": [
    "def calc_mod(data, n_act=16):\n",
    "    acc = np.full(n_act, None)\n",
    "    gyr = np.full(n_act, None)\n",
    "    mag = np.full(n_act, None)\n",
    "\n",
    "    for act in range(1, n_act+1):\n",
    "        activity = data.loc[data['Act_Label'] == 1]\n",
    "        acc[act-1] = np.sqrt(activity['Acc_X']**2 + activity['Acc_Y']**2 + activity['Acc_Z']**2)\n",
    "        gyr[act-1] = np.sqrt(activity['Gyr_X']**2 + activity['Gyr_Y']**2 + activity['Gyr_Z']**2)\n",
    "        mag[act-1] = np.sqrt(activity['Mag_X']**2 + activity['Mag_Y']**2 + activity['Mag_Z']**2)\n",
    "    \n",
    "    return [acc, gyr, mag]\n",
    "\n",
    "[acc, gyr, mag] = calc_mod(data)"
   ]
  },
  {
   "cell_type": "code",
   "execution_count": null,
   "metadata": {},
   "outputs": [],
   "source": []
  }
 ]
}